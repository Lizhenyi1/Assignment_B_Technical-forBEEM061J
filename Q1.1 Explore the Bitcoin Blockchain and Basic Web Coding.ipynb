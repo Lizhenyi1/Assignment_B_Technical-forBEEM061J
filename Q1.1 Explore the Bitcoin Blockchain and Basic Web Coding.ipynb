{
 "cells": [
  {
   "cell_type": "markdown",
   "id": "368d983b",
   "metadata": {},
   "source": [
    "## 1.1 Extract Information From Your Own Transaction"
   ]
  },
  {
   "cell_type": "code",
   "execution_count": 29,
   "id": "117a8278",
   "metadata": {},
   "outputs": [],
   "source": [
    "import json\n",
    "import requests"
   ]
  },
  {
   "cell_type": "code",
   "execution_count": 28,
   "id": "73c80983",
   "metadata": {},
   "outputs": [
    {
     "name": "stdout",
     "output_type": "stream",
     "text": [
      "1645\n",
      "1651098456\n",
      "0.01747634999999992\n",
      "1\n",
      "SVpool\n"
     ]
    }
   ],
   "source": [
    "answer = requests.get(\"https://api.whatsonchain.com/v1/bsv/main/block/height/737045\")\n",
    "genesis_block = json.loads(answer.text)\n",
    "print(genesis_block['txcount'])\n",
    "print(genesis_block['time'])\n",
    "print(genesis_block['totalFees'])\n",
    "print(genesis_block['confirmations'])\n",
    "print(genesis_block['miner'])"
   ]
  },
  {
   "cell_type": "code",
   "execution_count": 18,
   "id": "3ab71de1",
   "metadata": {},
   "outputs": [
    {
     "name": "stdout",
     "output_type": "stream",
     "text": [
      "2022-04-27 23:27:36\n"
     ]
    }
   ],
   "source": [
    "import datetime\n",
    "timestamp = datetime.datetime.fromtimestamp(genesis_block['time'])\n",
    "print(timestamp.strftime('%Y-%m-%d %H:%M:%S'))"
   ]
  },
  {
   "cell_type": "markdown",
   "id": "321767a2",
   "metadata": {},
   "source": [
    "### \n",
    "miner is the node of this transaction，the first transaction of this block.\n",
    "\n",
    "timestamp is when this transaction is confirmed at 2022-04-27 23:27:36\n",
    "\n",
    "confirmations is how many legers have confirmed this transaction.because of this few amount of piece, only one leger confirmed this transaction at the moment. After 1 hour I checked again,this number aggregated to 11, which means this transaction is irreversible.\n",
    "\n",
    "Total Fee is the transaction Fee on this block combine.\n",
    "\n",
    "txcount is the total number of transactions happened in this block up until now, which is 1645."
   ]
  },
  {
   "cell_type": "markdown",
   "id": "6fd0c20e",
   "metadata": {},
   "source": [
    "## 1.2 Create a Bitcoin Wallet"
   ]
  },
  {
   "cell_type": "markdown",
   "id": "8bc0ad07",
   "metadata": {},
   "source": [
    "In a seperate file"
   ]
  },
  {
   "cell_type": "code",
   "execution_count": null,
   "id": "308d4a0c",
   "metadata": {},
   "outputs": [],
   "source": []
  }
 ],
 "metadata": {
  "kernelspec": {
   "display_name": "Python 3 (ipykernel)",
   "language": "python",
   "name": "python3"
  },
  "language_info": {
   "codemirror_mode": {
    "name": "ipython",
    "version": 3
   },
   "file_extension": ".py",
   "mimetype": "text/x-python",
   "name": "python",
   "nbconvert_exporter": "python",
   "pygments_lexer": "ipython3",
   "version": "3.9.7"
  }
 },
 "nbformat": 4,
 "nbformat_minor": 5
}
